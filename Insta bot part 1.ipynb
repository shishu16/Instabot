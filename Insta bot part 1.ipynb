{
 "cells": [
  {
   "cell_type": "code",
   "execution_count": 1,
   "id": "d4c9f178",
   "metadata": {},
   "outputs": [
    {
     "name": "stderr",
     "output_type": "stream",
     "text": [
      "C:\\Users\\SHIKHAR\\AppData\\Local\\Temp\\ipykernel_5972\\4000364932.py:8: DeprecationWarning: executable_path has been deprecated, please pass in a Service object\n",
      "  driver = webdriver.Chrome(executable_path = 'Users/SHIKHAR/Downloads/chromedriver_win32')\n"
     ]
    }
   ],
   "source": [
    "#importing all requirements\n",
    "import selenium\n",
    "from selenium import webdriver\n",
    "from selenium.webdriver.common.by import By\n",
    "import time\n",
    "from selenium.webdriver.support.ui import WebDriverWait\n",
    "from selenium.webdriver.support import expected_conditions as EC\n",
    "from selenium.common.exceptions import TimeoutException\n",
    "from bs4 import BeautifulSoup\n",
    "from selenium.webdriver.common.keys import Keys\n",
    "driver = webdriver.Chrome(executable_path = 'Users/SHIKHAR/Downloads/chromedriver_win32')"
   ]
  },
  {
   "cell_type": "markdown",
   "id": "f72f4f2f",
   "metadata": {},
   "source": [
    "Login to instagram handle"
   ]
  },
  {
   "cell_type": "code",
   "execution_count": 5,
   "id": "a3ec2539",
   "metadata": {},
   "outputs": [],
   "source": [
    "username=\"dummy\"\n",
    "pw=\"dummy\"\n",
    "\n",
    "driver.get('https://www.instagram.com/')\n",
    "time.sleep(3)\n",
    "text_box=driver.find_element(By.NAME,\"username\")\n",
    "text_box.click()\n",
    "text_box.send_keys(username)\n",
    "text_box1=driver.find_element(By.NAME,\"password\")\n",
    "text_box1.click()\n",
    "text_box1.send_keys(pw)\n",
    "loginbutton = driver.find_element(By.XPATH,'//button[contains(@class,\"_acan\")]')\n",
    "loginbutton.submit()\n",
    "time.sleep(5)\n",
    "notnow = driver.find_element(By.XPATH,'//button[contains(@class,\"_acan\")]')\n",
    "notnow.click()\n",
    "time.sleep(3)\n",
    "not_now1= driver.find_element(By.XPATH, '//button[contains(text(), \"Not Now\")]')\n",
    "not_now1.click()\n",
    "# OR  use below to click not now\n",
    "# not_now = WebDriverWait(driver, 10).until(EC.element_to_be_clickable((By.XPATH, '//button[contains(text(), \"Not Now\")]'))).click()\n"
   ]
  },
  {
   "cell_type": "markdown",
   "id": "0d0930c8",
   "metadata": {},
   "source": [
    "Type for “food” in search bar and print all the names of the Instagram Handles that are displayed in list after typing “food”"
   ]
  },
  {
   "cell_type": "code",
   "execution_count": 7,
   "id": "99b342af",
   "metadata": {},
   "outputs": [
    {
     "data": {
      "text/plain": [
       "[('FOOD LOVER😍', 'https://www.instagram.com//foodl.over50/'),\n",
       " ('Karan Dua', 'https://www.instagram.com//dilsefoodie/'),\n",
       " ('Ishita Khajuria💙', 'https://www.instagram.com//foodineerishita/'),\n",
       " ('Food Adda', 'https://www.instagram.com//foodadda1/'),\n",
       " ('Foodtech Simplified', 'https://www.instagram.com//foodtechsimplified/'),\n",
       " ('Foodie🤤 | vlogger😎', 'https://www.instagram.com//non_vegfoodies/'),\n",
       " ('Food', 'https://www.instagram.com//food/'),\n",
       " ('Fooddiariesss', 'https://www.instagram.com//fooddiariesss/'),\n",
       " (None, 'https://www.instagram.com//explore/tags/food/'),\n",
       " ('Food Network South Africa',\n",
       "  'https://www.instagram.com//foodnetworksouthafrica/'),\n",
       " ('FOOD-ADDA MUMBAI', 'https://www.instagram.com//foodadda_mumbai/'),\n",
       " ('Mumbai food blogger 😋', 'https://www.instagram.com//lets_eat_mumbai/'),\n",
       " ('Insider Food', 'https://www.instagram.com//insiderfood/'),\n",
       " ('FOODIE YAAR', 'https://www.instagram.com//foodie.yaarr/'),\n",
       " ('Aku | Delhifoodgrammer ❤️🧿',\n",
       "  'https://www.instagram.com//delhifoodgrammer/'),\n",
       " ('Food for the Hungry', 'https://www.instagram.com//food4thehungry/'),\n",
       " ('Amar Sirohi', 'https://www.instagram.com//foodie_incarnate/'),\n",
       " ('Food | Travel | Fashion', 'https://www.instagram.com//roamingferalcat/'),\n",
       " ('Sudha |Travel |Food |Lifestyle',\n",
       "  'https://www.instagram.com//thecrazy_explorer/'),\n",
       " ('Food Junction', 'https://www.instagram.com//foodjunctionoriginals/'),\n",
       " (None, 'https://www.instagram.com//explore/tags/foodie/'),\n",
       " ('VILLAGE FOOD CHANNEL',\n",
       "  'https://www.instagram.com//villagefoodchannel_official/'),\n",
       " ('KL Foodie', 'https://www.instagram.com//kl.foodie/'),\n",
       " ('Mumbai Food Crush', 'https://www.instagram.com//mumbaifoodcrush/'),\n",
       " ('Food Videos🍰', 'https://www.instagram.com//satissfood/'),\n",
       " ('s h ɾ i s h t ib h a n d a ɾ i', 'https://www.instagram.com//food_slayer/'),\n",
       " (None, 'https://www.instagram.com//explore/tags/foodporn/'),\n",
       " ('Indian food mania', 'https://www.instagram.com//indianfoodmania_/'),\n",
       " ('FOODMATTERS', 'https://www.instagram.com//the_food_matters/'),\n",
       " ('Street Food Recipes', 'https://www.instagram.com//streetfoodrecipe/'),\n",
       " ('the FBAI', 'https://www.instagram.com//foodbloggerai/'),\n",
       " ('Aakash Darji | Food Influencer', 'https://www.instagram.com//foodsta717/'),\n",
       " ('FOOD STREET DIARIES', 'https://www.instagram.com//foodstreetza/'),\n",
       " ('Shawn Sutari •Travel | Food',\n",
       "  'https://www.instagram.com//shawnjarvis_sutari/'),\n",
       " ('Kathika', 'https://www.instagram.com//foodiehot_bazaar/'),\n",
       " ('Mumbai Food Blog | Sam 🙋\\u200d♂️',\n",
       "  'https://www.instagram.com//fooddelicacyindia/'),\n",
       " ('Kunjan', 'https://www.instagram.com//lovelyladyfoodie/'),\n",
       " ('Killeen Food Park', 'https://www.instagram.com//killeen_food_park_2020/'),\n",
       " ('Mamatha Jayaram', 'https://www.instagram.com//food_pulse/'),\n",
       " ('Pandey jee', 'https://www.instagram.com//food.travel_official/'),\n",
       " ('Ujjwal Foodie 🧿', 'https://www.instagram.com//delhi_street_food1/'),\n",
       " ('Nidhi', 'https://www.instagram.com//food_paradisee__/'),\n",
       " ('Bₑ  ₘY  FₒₒDᵢₑ😉', 'https://www.instagram.com//foooddddiiee/'),\n",
       " (None, 'https://www.instagram.com//explore/tags/foodphotography/'),\n",
       " ('Food Loveon™', 'https://www.instagram.com//foodloveon/'),\n",
       " ('35, 27/3C, Tashkand Marg, Civil Lines, Allahabad, India',\n",
       "  'https://www.instagram.com//explore/locations/100194184865017/angels-food-district/'),\n",
       " ('Sailu | Indian Food', 'https://www.instagram.com//sailusfood/'),\n",
       " ('B/1, 3rd Floor Near Girls High School square Dr. Lohiya Road, Civil Lines Prayagraj-211001, Allahabad, India',\n",
       "  'https://www.instagram.com//explore/locations/110508314836800/the-food-flora-rooftop-cafe-restaurant/'),\n",
       " ('foodpanda India', 'https://www.instagram.com//foodpandaindia/'),\n",
       " ('Pooja Kokate ⚘| Food & Travel',\n",
       "  'https://www.instagram.com//foodhuntingmyway/'),\n",
       " ('Bombay Food Truck ®️', 'https://www.instagram.com//bombayfoodtruck/'),\n",
       " ('Swarali & Rohan | Food & Travel Blogger',\n",
       "  'https://www.instagram.com//mumbaifoodjunkie/'),\n",
       " ('78 A Muir Road., Allahabad, India',\n",
       "  'https://www.instagram.com//explore/locations/823387942/food-court-yame/'),\n",
       " ('Just Food SA', 'https://www.instagram.com//justfood_sa/'),\n",
       " ('Fast foody', 'https://www.instagram.com//fastfoody.mumbai/'),\n",
       " ('Food Travel Lifestyle 🌻', 'https://www.instagram.com//ritikaaapurohit/')]"
      ]
     },
     "execution_count": 7,
     "metadata": {},
     "output_type": "execute_result"
    }
   ],
   "source": [
    "search= driver.find_element(By.XPATH, '//a[contains(@href, \"#\")]')\n",
    "search.click()\n",
    "time.sleep(3)\n",
    "input_text= driver.find_element(By.XPATH, '//input[contains(@aria-label, \"Search input\")]')\n",
    "time.sleep(1)\n",
    "input_text.click()\n",
    "time.sleep(3)\n",
    "input_text.send_keys(\"food\")\n",
    "time.sleep(3)\n",
    "result= driver.find_elements(By.XPATH, '//div[contains(@class, \"_abm4\")]')\n",
    "results=[]\n",
    "for element in result:\n",
    "    data = BeautifulSoup(element.get_attribute('outerHTML'), 'html.parser')\n",
    "    link=\"https://www.instagram.com/\"+ data.a['href']\n",
    "    user=data.find_all(class_=(\"_aacl\", \"_aaco\",\" _aacu\" ,\"_aacy\",\" _aada\"))[2].string\n",
    "    results.append((user,link))\n",
    "results"
   ]
  },
  {
   "cell_type": "markdown",
   "id": "1f8c06c2",
   "metadata": {},
   "source": [
    "Searching and Opening a profile using Open profile of “So Delhi”"
   ]
  },
  {
   "cell_type": "code",
   "execution_count": 11,
   "id": "3e01e468",
   "metadata": {},
   "outputs": [],
   "source": [
    "#from selenium.webdriver.common.keys import Keys\n",
    "search= driver.find_element(By.XPATH, '//a[contains(@href, \"#\")]')\n",
    "search.click()\n",
    "time.sleep(3)\n",
    "input_text= driver.find_element(By.XPATH, '//input[contains(@aria-label, \"Search input\")]')\n",
    "time.sleep(3)\n",
    "input_text.click()\n",
    "input_text.clear()\n",
    "time.sleep(3)\n",
    "input_text.send_keys(\"So delhi\")\n",
    "time.sleep(3)\n",
    "input_text.send_keys(Keys.ENTER)\n",
    "input_text.send_keys(Keys.ENTER)"
   ]
  },
  {
   "cell_type": "markdown",
   "id": "bed104b4",
   "metadata": {},
   "source": [
    "Follow/Unfollow given handle - \n",
    "Open the Instagram Handle of “So Delhi” Start following it. Print a message if you are already following After following, unfollow the instagram handle. Print a message if you have already unfollowed."
   ]
  },
  {
   "cell_type": "code",
   "execution_count": 12,
   "id": "16741add",
   "metadata": {},
   "outputs": [
    {
     "name": "stdout",
     "output_type": "stream",
     "text": [
      "Followed successfully\n"
     ]
    }
   ],
   "source": [
    "#to follow\n",
    "search= driver.find_element(By.XPATH, '//a[contains(@href, \"#\")]')\n",
    "search.click()\n",
    "time.sleep(3)\n",
    "input_text= driver.find_element(By.XPATH, '//input[contains(@aria-label, \"Search input\")]')\n",
    "time.sleep(1)\n",
    "input_text.click()\n",
    "input_text.clear()\n",
    "time.sleep(3)\n",
    "input_text.send_keys(\"So Delhi\")\n",
    "time.sleep(3)\n",
    "input_text.send_keys(Keys.ENTER)\n",
    "input_text.send_keys(Keys.ENTER)\n",
    "time.sleep(2)\n",
    "follow= driver.find_element(By.XPATH, '//button//div[contains(text(), \"Follow\")]')\n",
    "if(follow.get_attribute('innerHTML')=='Follow'):\n",
    "    follow.click()\n",
    "    print(\"Followed successfully\")\n",
    "else:\n",
    "    print(\"Already followed\")"
   ]
  },
  {
   "cell_type": "code",
   "execution_count": 13,
   "id": "1e9a73ef",
   "metadata": {},
   "outputs": [
    {
     "name": "stdout",
     "output_type": "stream",
     "text": [
      "Unfollowed successfully\n"
     ]
    }
   ],
   "source": [
    "#to unfollow\n",
    "search= driver.find_element(By.XPATH, '//a[contains(@href, \"#\")]')\n",
    "search.click()\n",
    "time.sleep(3)\n",
    "input_text= driver.find_element(By.XPATH, '//input[contains(@aria-label, \"Search input\")]')\n",
    "time.sleep(1)\n",
    "input_text.click()\n",
    "input_text.clear()\n",
    "time.sleep(3)\n",
    "input_text.send_keys(\"So Delhi\")\n",
    "time.sleep(3)\n",
    "input_text.send_keys(Keys.ENTER)\n",
    "input_text.send_keys(Keys.ENTER)\n",
    "time.sleep(2)\n",
    "follow= driver.find_element(By.XPATH, '//button//div[contains(text(), \"Follow\")]')\n",
    "if(follow.get_attribute('innerHTML')=='Follow'):\n",
    "    print(\"Already unfollowed\")\n",
    "else:\n",
    "    follow.click()\n",
    "    time.sleep(2)\n",
    "    unfollow= driver.find_element(By.XPATH, '//div[contains(text(), \"Unfollow\")]')\n",
    "    unfollow.click()\n",
    "    print(\"Unfollowed successfully\")\n",
    "    "
   ]
  },
  {
   "cell_type": "markdown",
   "id": "1463c0af",
   "metadata": {},
   "source": [
    "Like/Unlike posts Liking the top 30 posts of the ‘dilsefoodie'. Print message if you have already liked it. Unliking the top 30 posts of the ‘dilsefoodie’. Print message if you have already unliked it."
   ]
  },
  {
   "cell_type": "code",
   "execution_count": 17,
   "id": "44562adf",
   "metadata": {},
   "outputs": [],
   "source": [
    "#opening the profile and scrolling the page to load 30 posts\n",
    "\n",
    "search= driver.find_element(By.XPATH, '//a[contains(@href, \"#\")]')\n",
    "search.click()\n",
    "time.sleep(3)\n",
    "input_text= driver.find_element(By.XPATH, '//input[contains(@aria-label, \"Search input\")]')\n",
    "time.sleep(1)\n",
    "input_text.click()\n",
    "input_text.clear()\n",
    "time.sleep(3)\n",
    "input_text.send_keys(\"dilsefoodie\")\n",
    "time.sleep(3)\n",
    "input_text.send_keys(Keys.ENTER)\n",
    "input_text.send_keys(Keys.ENTER)\n",
    "time.sleep(2)\n",
    "driver.execute_script('window.scrollBy(0, 3000);')\n",
    "time.sleep(3)\n",
    "driver.execute_script('window.scrollBy(0, 3000);')\n"
   ]
  },
  {
   "cell_type": "code",
   "execution_count": 18,
   "id": "e0856d7c",
   "metadata": {},
   "outputs": [
    {
     "data": {
      "text/plain": [
       "42"
      ]
     },
     "execution_count": 18,
     "metadata": {},
     "output_type": "execute_result"
    }
   ],
   "source": [
    "# extracting all posts elements\n",
    "\n",
    "posts= driver.find_elements(By.XPATH, '//div[contains(@class, \"_aabd\")]')\n",
    "len(posts)\n"
   ]
  },
  {
   "cell_type": "code",
   "execution_count": 19,
   "id": "4c050015",
   "metadata": {},
   "outputs": [
    {
     "name": "stdout",
     "output_type": "stream",
     "text": [
      "Already Liked post number  0\n",
      "Already Liked post number  1\n",
      "Already Liked post number  2\n",
      "Already Liked post number  3\n",
      "Already Liked post number  4\n",
      "Already Liked post number  5\n",
      "Already Liked post number  6\n",
      "Already Liked post number  7\n",
      "Already Liked post number  8\n",
      "Already Liked post number  9\n",
      "Already Liked post number  10\n",
      "Liked post number 11\n",
      "Liked post number 12\n",
      "Liked post number 13\n",
      "Liked post number 14\n",
      "Liked post number 15\n",
      "Liked post number 16\n",
      "Liked post number 17\n",
      "Liked post number 18\n",
      "Liked post number 19\n",
      "Liked post number 20\n",
      "Liked post number 21\n",
      "Liked post number 22\n",
      "Liked post number 23\n",
      "Liked post number 24\n",
      "Liked post number 25\n",
      "Liked post number 26\n",
      "Liked post number 27\n",
      "Liked post number 28\n",
      "Liked post number 29\n"
     ]
    }
   ],
   "source": [
    "#Liking top 30 posts\n",
    "\n",
    "#from selenium.webdriver.support.ui import WebDriverWait\n",
    "#from selenium.webdriver.support import expected_conditions as EC\n",
    "\n",
    "wait = WebDriverWait(driver, 10)\n",
    "for i in range(30):\n",
    "    posts[i].click()\n",
    "    like= wait.until(EC.presence_of_element_located((By.XPATH, '//span[contains(@class, \"_aamw\")]')))\n",
    "    data = BeautifulSoup(like.get_attribute('outerHTML'), 'html.parser')\n",
    "    if(data.svg['aria-label']=='Like'):\n",
    "        like.click()\n",
    "        print(\"Liked post number\",i)\n",
    "    else:\n",
    "        print(\"Already Liked post number \", i)\n",
    "    close=driver.find_element(By.XPATH, '//div[contains(@class,\"x10l6tqk\")]//div[contains(@class,\"x1i10hfl\")]')\n",
    "    close.click()\n",
    "    time.sleep(1)\n"
   ]
  },
  {
   "cell_type": "code",
   "execution_count": 20,
   "id": "c66f0540",
   "metadata": {},
   "outputs": [
    {
     "name": "stdout",
     "output_type": "stream",
     "text": [
      "Unliked post number 0\n",
      "Unliked post number 1\n",
      "Unliked post number 2\n",
      "Unliked post number 3\n",
      "Unliked post number 4\n",
      "Unliked post number 5\n",
      "Unliked post number 6\n",
      "Unliked post number 7\n",
      "Unliked post number 8\n",
      "Unliked post number 9\n",
      "Unliked post number 10\n",
      "Unliked post number 11\n",
      "Unliked post number 12\n",
      "Unliked post number 13\n",
      "Unliked post number 14\n",
      "Unliked post number 15\n",
      "Unliked post number 16\n",
      "Unliked post number 17\n",
      "Unliked post number 18\n",
      "Unliked post number 19\n",
      "Unliked post number 20\n",
      "Unliked post number 21\n",
      "Unliked post number 22\n",
      "Unliked post number 23\n",
      "Unliked post number 24\n",
      "Unliked post number 25\n",
      "Unliked post number 26\n",
      "Unliked post number 27\n",
      "Unliked post number 28\n",
      "Unliked post number 29\n"
     ]
    }
   ],
   "source": [
    "#UnLiking top 30 posts\n",
    "\n",
    "#from selenium.webdriver.support.ui import WebDriverWait\n",
    "#from selenium.webdriver.support import expected_conditions as EC\n",
    "\n",
    "wait = WebDriverWait(driver, 10)\n",
    "for i in range(30):\n",
    "    posts[i].click()\n",
    "    unlike= wait.until(EC.presence_of_element_located((By.XPATH, '//span[contains(@class, \"_aamw\")]')))\n",
    "    data = BeautifulSoup(unlike.get_attribute('outerHTML'), 'html.parser')\n",
    "    if(data.svg['aria-label']=='Unlike'):\n",
    "        unlike.click()\n",
    "        print(\"Unliked post number\",i)\n",
    "    else:\n",
    "        print(\"Already Unliked post number \", i)\n",
    "    close=driver.find_element(By.XPATH, '//div[contains(@class,\"x10l6tqk\")]//div[contains(@class,\"x1i10hfl\")]')\n",
    "    close.click()\n",
    "    time.sleep(1)\n"
   ]
  },
  {
   "cell_type": "code",
   "execution_count": 21,
   "id": "d62ed9d6",
   "metadata": {},
   "outputs": [],
   "source": [
    "driver.execute_script('window.scrollTo(0, 0)') #to scroll back to top"
   ]
  },
  {
   "cell_type": "markdown",
   "id": "e5df2576",
   "metadata": {},
   "source": [
    "Extract list of followers\n",
    "Extract the usernames of the first 500 followers of ‘foodtalkindia’ and ‘sodelhi’.\n",
    "Now print all the followers of “foodtalkindia” that you are following but those who don’t follow you."
   ]
  },
  {
   "cell_type": "code",
   "execution_count": 32,
   "id": "ace2ec61",
   "metadata": {},
   "outputs": [
    {
     "name": "stdout",
     "output_type": "stream",
     "text": [
      "ze.ba1971\n",
      "shavez7975\n",
      "asudani_jitesh\n",
      "anam_official_\n",
      "the_disha_arora\n",
      "succhaweirdo\n",
      "mudassir614\n",
      "maaz_006\n",
      "snehajunny\n",
      "innatuteja\n",
      "aru.nima_12\n",
      "the_aditigupta\n",
      "x_nikhil20\n",
      "sauravthehuman\n",
      "abeer.singh_shrotria\n",
      "aj_aasthajindal\n",
      "shivangi_h.e.r.e\n",
      "_kaur7432\n",
      "indianculinaryhomekitchen\n",
      "sanhaarora\n",
      "bhandaribharti1984\n",
      "neerajupadhyay1\n",
      "fatimaabdulla_98\n",
      "kritya_mangla\n",
      "minaljain21\n",
      "_.deeeppssss._\n",
      "_nitiaggarwal\n",
      "gamakgulati\n",
      "dr_jackal023\n",
      "pooja_sharma1564\n",
      "ruhii_1911\n",
      "kashissshhh1812\n",
      "abhi_aashu\n",
      "nanni_bbu\n",
      "gentlemanwaa\n",
      "imkuak\n",
      "rkoberoi99\n",
      "official_charan123\n",
      "enhancedbysurbhi\n",
      "surbhi_agrawal03\n",
      "riya_manocha__\n",
      "hanbhyi\n",
      "shardul_shroff\n",
      "pur.rfectpair\n",
      "upsc8665\n",
      "pranit_gholap\n",
      "jividha_17\n",
      "rajvansh_bhasin\n",
      "gargisingh.__\n",
      "rapidmeddiia\n",
      "shivamkapoor1243\n",
      "mydestination_lbsnaa\n",
      "_blossom_1102002\n",
      "tavishi_0102\n",
      "yogagirl_urvashi\n",
      "deep_love09\n",
      "irajdeeps\n",
      "truly_wanderlust6128\n",
      "_anchal_chaudhary00\n",
      "manju__ammus__\n"
     ]
    }
   ],
   "source": [
    "#visiting So Delhi\n",
    "\n",
    "wait=WebDriverWait(driver, 10)\n",
    "search= driver.find_element(By.XPATH, '//a[contains(@href, \"#\")]')\n",
    "search.click()\n",
    "input_text=wait.until(EC.presence_of_element_located((By.XPATH, '//input[contains(@aria-label, \"Search input\")]')))\n",
    "time.sleep(5)\n",
    "input_text.click()\n",
    "input_text.clear()\n",
    "time.sleep(1)\n",
    "input_text.send_keys(\"So delhi\")\n",
    "time.sleep(1)\n",
    "input_text.send_keys(Keys.ENTER)\n",
    "input_text.send_keys(Keys.ENTER)\n",
    "\n",
    "time.sleep(4)\n",
    "\n",
    "#getting followers list\n",
    "\n",
    "try:\n",
    "    follower= wait.until(EC.presence_of_element_located((By.XPATH, '//div[contains(text(), \"followers\")]'))).click()\n",
    "except TimeoutException:\n",
    "    pass\n",
    "\n",
    "time.sleep(2)\n",
    "\n",
    "result1= driver.find_elements(By.XPATH, '//span[contains(@class, \"_aacl\")]//div[contains(@class, \"_ab8y\")]')\n",
    "\n",
    "flist=[]\n",
    "for i in result1:\n",
    "    flist.append(i.get_attribute('innerHTML'))\n",
    "    \n",
    "driver.back()\n",
    "\n",
    "for i in flist:\n",
    "    print(i)\n",
    "\n"
   ]
  },
  {
   "cell_type": "code",
   "execution_count": 28,
   "id": "87b04865",
   "metadata": {},
   "outputs": [],
   "source": []
  },
  {
   "cell_type": "code",
   "execution_count": 33,
   "id": "07516b5d",
   "metadata": {},
   "outputs": [
    {
     "name": "stdout",
     "output_type": "stream",
     "text": [
      "ganesh_agri_\n",
      "all_is_math\n",
      "gurgoan_property\n",
      "anshika2596\n",
      "ara_ndeep\n",
      "astha_agg1302\n",
      "beautiful.bytes\n",
      "itz__chanda___101\n",
      "deepa_muthukumarasamy\n",
      "delicacy_delicious_\n",
      "mad_max_1244\n",
      "diya.madan21\n",
      "edin.life\n",
      "foodiesm.time\n",
      "gaga.ndeep5483\n",
      "gehnaluthra\n",
      "gokul_food_products\n",
      "grainfully_yours\n",
      "grainsncurries\n",
      "hitanshi_pandya\n",
      "hotelshivayeharidwar\n",
      "_jacaraanda\n",
      "kakaporestaurant\n",
      "kashyapkumard\n",
      "suhailkingsuhailking22\n",
      "manasi_lavande\n",
      "nobita_king90\n",
      "excursia_global_edu\n",
      "medhamishra__\n",
      "miguel_de_ssims\n",
      "parikhmihir\n",
      "ferd_vert\n",
      "mukeshkumar.yadav.5070276\n",
      "pancham_dhayal\n",
      "priyabarde16\n",
      "prochimahudawala\n",
      "rishikanagal\n",
      "satbir181963\n",
      "shavez7975\n",
      "cheerfulargal\n",
      "shubhamsharma18950\n",
      "swapnil_v_nil\n",
      "tanyakalra21\n",
      "uvdiaries2022\n",
      "uzaifakhanu_fitnesss\n",
      "yuvi_sanav\n",
      "______naman______singh_______\n",
      "hamnasayyed9\n",
      "borasinatik\n",
      "foodie_faiz01\n"
     ]
    }
   ],
   "source": [
    "#visiting foodtalkindia\n",
    "\n",
    "wait=WebDriverWait(driver, 10)\n",
    "search= driver.find_element(By.XPATH, '//a[contains(@href, \"#\")]')\n",
    "search.click()\n",
    "input_text=wait.until(EC.presence_of_element_located((By.XPATH, '//input[contains(@aria-label, \"Search input\")]')))\n",
    "time.sleep(5)\n",
    "input_text.click()\n",
    "input_text.clear()\n",
    "time.sleep(1)\n",
    "input_text.send_keys(\"foodtalkindia\")\n",
    "time.sleep(1)\n",
    "input_text.send_keys(Keys.ENTER)\n",
    "input_text.send_keys(Keys.ENTER)\n",
    "\n",
    "time.sleep(4)\n",
    "\n",
    "#getting followers list\n",
    "\n",
    "try:\n",
    "    follower= wait.until(EC.presence_of_element_located((By.XPATH, '//div[contains(text(), \"followers\")]'))).click()\n",
    "except TimeoutException:\n",
    "    pass\n",
    "\n",
    "time.sleep(2)\n",
    "\n",
    "result1= driver.find_elements(By.XPATH, '//span[contains(@class, \"_aacl\")]//div[contains(@class, \"_ab8y\")]')\n",
    "\n",
    "flist=[]\n",
    "for i in result1:\n",
    "    flist.append(i.get_attribute('innerHTML'))\n",
    "    \n",
    "driver.back()\n",
    "\n",
    "for i in flist:\n",
    "    print(i)\n",
    "\n"
   ]
  },
  {
   "cell_type": "markdown",
   "id": "6a1fd37a",
   "metadata": {},
   "source": [
    "Check the story of ‘coding.ninjas’. Consider the following Scenarios and print error messages accordingly -\n",
    "If You have already seen the story.\n",
    "Or The user has no story.\n",
    "Or View the story if not yet seen."
   ]
  },
  {
   "cell_type": "code",
   "execution_count": 43,
   "id": "b81c73cd",
   "metadata": {},
   "outputs": [],
   "source": [
    "#visiting Coding Ninjas\n",
    "\n",
    "wait=WebDriverWait(driver, 10)\n",
    "search= driver.find_element(By.XPATH, '//a[contains(@href, \"#\")]')\n",
    "search.click()\n",
    "input_text=wait.until(EC.presence_of_element_located((By.XPATH, '//input[contains(@aria-label, \"Search input\")]')))\n",
    "time.sleep(5)\n",
    "input_text.click()\n",
    "input_text.clear()\n",
    "time.sleep(1)\n",
    "input_text.send_keys(\"Coding ninjas\")\n",
    "time.sleep(1)\n",
    "input_text.send_keys(Keys.ENTER)\n",
    "input_text.send_keys(Keys.ENTER)\n",
    "\n",
    "time.sleep(4)\n"
   ]
  },
  {
   "cell_type": "code",
   "execution_count": 67,
   "id": "6eecf568",
   "metadata": {},
   "outputs": [
    {
     "name": "stdout",
     "output_type": "stream",
     "text": [
      "You have already seen the story!\n"
     ]
    }
   ],
   "source": [
    "# checking if stories already seen or not by inspecting profile image icon height \n",
    "\n",
    "try:\n",
    "    element=driver.find_element(By.XPATH,'//div[contains(@class, \"_aarf\")]/canvas')\n",
    "    value=element.get_attribute('height')\n",
    "    if int(value)>=216:\n",
    "        print('Story not seen yet')\n",
    "        driver.find_element(By.XPATH,'//div[contains(@class, \"_aarf\")]').click()\n",
    "    elif int(value)<216:\n",
    "        print('You have already seen the story!')\n",
    "        driver.find_element(By.XPATH,'//div[contains(@class, \"_aarf\")]').click()\n",
    "except NoSuchElementException:\n",
    "    print('No story present')\n",
    "    "
   ]
  }
 ],
 "metadata": {
  "kernelspec": {
   "display_name": "Python 3 (ipykernel)",
   "language": "python",
   "name": "python3"
  },
  "language_info": {
   "codemirror_mode": {
    "name": "ipython",
    "version": 3
   },
   "file_extension": ".py",
   "mimetype": "text/x-python",
   "name": "python",
   "nbconvert_exporter": "python",
   "pygments_lexer": "ipython3",
   "version": "3.9.12"
  }
 },
 "nbformat": 4,
 "nbformat_minor": 5
}
